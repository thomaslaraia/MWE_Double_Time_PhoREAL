{
 "cells": [
  {
   "cell_type": "markdown",
   "id": "ac411830",
   "metadata": {},
   "source": [
    "I should note that you will need PhoREAL for this. It was far more painful to try and include everything myself."
   ]
  },
  {
   "cell_type": "code",
   "execution_count": 1,
   "id": "455dd0ac",
   "metadata": {},
   "outputs": [],
   "source": [
    "import sys\n",
    "\n",
    "sys.path.insert(1,'/directory/path/to/PhoREAL')\n",
    "\n",
    "from phoreal.reader import get_atl03_struct"
   ]
  },
  {
   "cell_type": "code",
   "execution_count": 2,
   "id": "4cf9b0ce",
   "metadata": {},
   "outputs": [],
   "source": [
    "atl03path = \"processed_ATL03_20210804143024_06411202_006_01.h5\"\n",
    "atl08path = \"processed_ATL08_20210804143024_06411202_006_01.h5\""
   ]
  },
  {
   "cell_type": "code",
   "execution_count": 3,
   "id": "1fe10d53",
   "metadata": {},
   "outputs": [],
   "source": [
    "atl03 = get_atl03_struct(atl03path, 'gt1r', atl08path)"
   ]
  },
  {
   "cell_type": "markdown",
   "id": "ac4636e9",
   "metadata": {},
   "source": [
    "You can see below that indices 19 and 20 both correspond to time."
   ]
  },
  {
   "cell_type": "code",
   "execution_count": 4,
   "id": "098992d7",
   "metadata": {
    "scrolled": false
   },
   "outputs": [
    {
     "name": "stdout",
     "output_type": "stream",
     "text": [
      "<class 'pandas.core.frame.DataFrame'>\n",
      "RangeIndex: 7168 entries, 0 to 7167\n",
      "Data columns (total 25 columns):\n",
      " #   Column          Non-Null Count  Dtype  \n",
      "---  ------          --------------  -----  \n",
      " 0   delta_time      7168 non-null   float64\n",
      " 1   dist_ph_across  7168 non-null   float32\n",
      " 2   dist_ph_along   7168 non-null   float64\n",
      " 3   h_ph            7168 non-null   float32\n",
      " 4   lat_ph          7168 non-null   float64\n",
      " 5   lon_ph          7168 non-null   float64\n",
      " 6   pce_mframe_cnt  7168 non-null   uint32 \n",
      " 7   ph_id_channel   7168 non-null   uint8  \n",
      " 8   ph_id_count     7168 non-null   uint8  \n",
      " 9   ph_id_pulse     7168 non-null   uint8  \n",
      " 10  quality_ph      7168 non-null   int8   \n",
      " 11  signal_conf_ph  7168 non-null   int8   \n",
      " 12  weight_ph       7168 non-null   uint8  \n",
      " 13  classification  7168 non-null   int64  \n",
      " 14  norm_h          7166 non-null   float64\n",
      " 15  seg_id          7168 non-null   int32  \n",
      " 16  ph_bihr         7168 non-null   float64\n",
      " 17  ph_bcr          7168 non-null   float64\n",
      " 18  ph_rate         7168 non-null   float64\n",
      " 19  time            7168 non-null   float64\n",
      " 20  time            7168 non-null   float64\n",
      " 21  easting         7168 non-null   float64\n",
      " 22  northing        7168 non-null   float64\n",
      " 23  crosstrack      7168 non-null   float64\n",
      " 24  alongtrack      7168 non-null   float64\n",
      "dtypes: float32(2), float64(14), int32(1), int64(1), int8(2), uint32(1), uint8(4)\n",
      "memory usage: 994.1 KB\n"
     ]
    }
   ],
   "source": [
    "atl03.df.info()"
   ]
  },
  {
   "cell_type": "markdown",
   "id": "01c06568",
   "metadata": {},
   "source": [
    "I'll try to call the time column from the DataFrame."
   ]
  },
  {
   "cell_type": "code",
   "execution_count": 5,
   "id": "72179663",
   "metadata": {},
   "outputs": [
    {
     "data": {
      "text/html": [
       "<div>\n",
       "<style scoped>\n",
       "    .dataframe tbody tr th:only-of-type {\n",
       "        vertical-align: middle;\n",
       "    }\n",
       "\n",
       "    .dataframe tbody tr th {\n",
       "        vertical-align: top;\n",
       "    }\n",
       "\n",
       "    .dataframe thead th {\n",
       "        text-align: right;\n",
       "    }\n",
       "</style>\n",
       "<table border=\"1\" class=\"dataframe\">\n",
       "  <thead>\n",
       "    <tr style=\"text-align: right;\">\n",
       "      <th></th>\n",
       "      <th>time</th>\n",
       "      <th>time</th>\n",
       "    </tr>\n",
       "  </thead>\n",
       "  <tbody>\n",
       "    <tr>\n",
       "      <th>0</th>\n",
       "      <td>0.0000</td>\n",
       "      <td>0.0000</td>\n",
       "    </tr>\n",
       "    <tr>\n",
       "      <th>1</th>\n",
       "      <td>0.0000</td>\n",
       "      <td>0.0000</td>\n",
       "    </tr>\n",
       "    <tr>\n",
       "      <th>2</th>\n",
       "      <td>0.0000</td>\n",
       "      <td>0.0000</td>\n",
       "    </tr>\n",
       "    <tr>\n",
       "      <th>3</th>\n",
       "      <td>0.0001</td>\n",
       "      <td>0.0001</td>\n",
       "    </tr>\n",
       "    <tr>\n",
       "      <th>4</th>\n",
       "      <td>0.0001</td>\n",
       "      <td>0.0001</td>\n",
       "    </tr>\n",
       "    <tr>\n",
       "      <th>...</th>\n",
       "      <td>...</td>\n",
       "      <td>...</td>\n",
       "    </tr>\n",
       "    <tr>\n",
       "      <th>7163</th>\n",
       "      <td>0.1801</td>\n",
       "      <td>0.1801</td>\n",
       "    </tr>\n",
       "    <tr>\n",
       "      <th>7164</th>\n",
       "      <td>0.1801</td>\n",
       "      <td>0.1801</td>\n",
       "    </tr>\n",
       "    <tr>\n",
       "      <th>7165</th>\n",
       "      <td>0.1801</td>\n",
       "      <td>0.1801</td>\n",
       "    </tr>\n",
       "    <tr>\n",
       "      <th>7166</th>\n",
       "      <td>0.1801</td>\n",
       "      <td>0.1801</td>\n",
       "    </tr>\n",
       "    <tr>\n",
       "      <th>7167</th>\n",
       "      <td>0.1801</td>\n",
       "      <td>0.1801</td>\n",
       "    </tr>\n",
       "  </tbody>\n",
       "</table>\n",
       "<p>7168 rows × 2 columns</p>\n",
       "</div>"
      ],
      "text/plain": [
       "        time    time\n",
       "0     0.0000  0.0000\n",
       "1     0.0000  0.0000\n",
       "2     0.0000  0.0000\n",
       "3     0.0001  0.0001\n",
       "4     0.0001  0.0001\n",
       "...      ...     ...\n",
       "7163  0.1801  0.1801\n",
       "7164  0.1801  0.1801\n",
       "7165  0.1801  0.1801\n",
       "7166  0.1801  0.1801\n",
       "7167  0.1801  0.1801\n",
       "\n",
       "[7168 rows x 2 columns]"
      ]
     },
     "execution_count": 5,
     "metadata": {},
     "output_type": "execute_result"
    }
   ],
   "source": [
    "atl03.df['time']"
   ]
  },
  {
   "cell_type": "markdown",
   "id": "866e02cc",
   "metadata": {},
   "source": [
    "We have two columns of the exact same thing. We can look at why, I've put arrows at the relevant lines."
   ]
  },
  {
   "cell_type": "code",
   "execution_count": null,
   "id": "bb8e45d7",
   "metadata": {},
   "outputs": [],
   "source": [
    "#This is the function as defined in the reader.py script\n",
    "\n",
    "def get_atl03_struct(atl03filepath, gt, atl08filepath = None, epsg = None, \n",
    "                     kml_bounds_txt = None, header_file_path = None):\n",
    "    df = read_atl03_heights_data(atl03filepath, gt)\n",
    "    if atl08filepath:\n",
    "        try:\n",
    "            # df = merge_label_to_df(atl03filepath, atl08filepath, gt, df)\n",
    "            df['classification'] = get_atl03_classification(atl03filepath,\\\n",
    "                                                            atl08filepath, gt)\n",
    "            # df = merge_norm_h_to_df(atl03filepath, atl08filepath, gt, df)\n",
    "            df['norm_h'] = get_atl03_heights_offset(atl03filepath,\\\n",
    "                                                    atl08filepath, gt)\n",
    "            dataIsMapped = True\n",
    "        except:\n",
    "            dataIsMapped = False\n",
    "    else:\n",
    "        dataIsMapped = False\n",
    "    df['seg_id'] =  get_atl03_segment_id(atl03filepath, gt)\n",
    "    df['ph_bihr'], df['ph_bcr'], df['ph_rate'] =\\\n",
    "        get_atl03_rate(atl03filepath, gt) \n",
    "    df['dist_ph_along'] = get_atl03_dist_ph_along(atl03filepath, gt)\n",
    "    df['time'] = df['delta_time'] -\\                                         # <-- first assignment of time\n",
    "        np.min(np.array(df.delta_time)[np.nonzero(np.array(df.delta_time))]) \n",
    "    df = get_atl_time(df)                                                    # <-- second assignment of time\n",
    "    df, epsg = get_atl_coords(df, epsg)\n",
    "    df, rotation_data = get_atl_alongtrack(df)\n",
    "    track_direction = get_direction(np.array(df.lat_ph))\n",
    "    atl03filename = get_file_name(atl03filepath)\n",
    "    atl03_info = getNameParts(atl03filename)\n",
    "    hemi, zone = identify_hemi_zone(epsg)\n",
    "\n",
    "    if dataIsMapped:\n",
    "        # for some reason, need to reset nan to -1,\n",
    "        # evemn though it's done in get_atl03_classification..\n",
    "        c = np.array(df.classification)\n",
    "        nan_index = np.where(np.isnan(c))\n",
    "        c[nan_index] = -1 # assign nan to -1\n",
    "        c = c.astype(int)\n",
    "        df.classification = c\n",
    "        # df.replace({'classification' : np.nan}, -1)\n",
    "\n",
    "    # Assign everything to the struct\n",
    "    beamNum = GtToBeamNum(atl03filepath, gt)\n",
    "    beamStrength = GtToBeamSW(atl03filepath, gt)\n",
    "    atl03Struct = AtlStruct(df, gt, beamNum, beamStrength, epsg, zone, hemi,\n",
    "                              atl03filepath, atl03filename, track_direction,\n",
    "                              'ATL03', atl03_info, dataIsMapped,rotation_data)\n",
    "\n",
    "        \n",
    "    return atl03Struct"
   ]
  },
  {
   "cell_type": "markdown",
   "id": "086e58cb",
   "metadata": {},
   "source": [
    "What does get_at_time do?"
   ]
  },
  {
   "cell_type": "code",
   "execution_count": null,
   "id": "4cebdfdd",
   "metadata": {},
   "outputs": [],
   "source": [
    "#Calculate alongtrack time\n",
    "def get_atl_time(df):\n",
    "    delta_time = np.array(df['delta_time'])\n",
    "    min_detla_time = np.min(delta_time[np.nonzero(delta_time)])\n",
    "    time = delta_time - min_detla_time\n",
    "    \n",
    "    df = pd.concat([df,pd.DataFrame(time,\n",
    "                                    columns=['time'])],axis=1)\n",
    "    return df"
   ]
  },
  {
   "cell_type": "markdown",
   "id": "d71801b1",
   "metadata": {},
   "source": [
    "This is the exact same thing as the first assignment. We can get rid of one of the assignments, preferably the first one because the code will be neater."
   ]
  }
 ],
 "metadata": {
  "kernelspec": {
   "display_name": "Python 3 (ipykernel)",
   "language": "python",
   "name": "python3"
  },
  "language_info": {
   "codemirror_mode": {
    "name": "ipython",
    "version": 3
   },
   "file_extension": ".py",
   "mimetype": "text/x-python",
   "name": "python",
   "nbconvert_exporter": "python",
   "pygments_lexer": "ipython3",
   "version": "3.10.12"
  }
 },
 "nbformat": 4,
 "nbformat_minor": 5
}
